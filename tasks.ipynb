{
 "cells": [
  {
   "cell_type": "markdown",
   "metadata": {},
   "source": [
    "# HW1\n",
    "Arithmetic, comparisons, conditions"
   ]
  },
  {
   "cell_type": "markdown",
   "metadata": {},
   "source": [
    "## 0\n",
    "Напишите программу, принимающую на вход имя пользователя и выводящую приветствие. \n",
    "\n",
    "Enter your name: Tolya  \n",
    "Hi, Tolya!\n",
    "\n",
    "Если на вход не было ничего подано (пустая строка), то программа должна вывести \"Hi, user\""
   ]
  },
  {
   "cell_type": "markdown",
   "metadata": {},
   "source": [
    "## 1\n",
    "Напишите программу, конвертирующую километры в метры. \n",
    "\n",
    "Enter km: 5.3  \n",
    "5300.0 m"
   ]
  },
  {
   "cell_type": "markdown",
   "metadata": {},
   "source": [
    "## 2\n",
    "А теперь программу, выдающую определённые характеристики поданного числа - знак, чётность, определение величины.\n",
    "1. Знак\n",
    "    * Для положительных чисел программа должна выдавать 'Your number is positive'\n",
    "    * Для 0 программа должна выдавать 'Your number is 0'\n",
    "    * Для отрицательных чисел программа должна выдавать 'Your number is negative'\n",
    "2. Чётность\n",
    "    * Для чётных чисел программа должна выдавать 'Your number is even'\n",
    "    * Для нечётных 'Your number is odd'\n",
    "3. Величина\n",
    "    * Для чисел, модуль которых больше либо равен 100 - 'Number is quite big'\n",
    "    * Для чисел, модуль которых больше либо равен 50, но меньше 100 - 'Number is intermediate'\n",
    "    * Для чисел, модуль которых меньше 50 - 'Number is small'\n",
    "\n",
    "Enter your number: 45  \n",
    "Your number is positive  \n",
    "Your number is odd  \n",
    "Number is small  "
   ]
  },
  {
   "cell_type": "markdown",
   "metadata": {},
   "source": [
    "## 3\n",
    "Новый конвертатор - переводит переданное значение в часы, минуты, секунды. При этом различает разные типы полученных значений. На вход программе подаются только целые величины, последний символ строки - единица измерения. Гарантируется, что подаваться будут только секунды или минуты.\n",
    "\n",
    "Enter duration: 123s  \n",
    "0h 2m 3s\n",
    "\n",
    "Enter duration: 245m  \n",
    "4h 5m 0s"
   ]
  },
  {
   "cell_type": "markdown",
   "metadata": {},
   "source": [
    "## 4\n",
    "Программа, кушающая коэффициенты перед слагаемыми квадратного уравнения, заданного в следующем виде\n",
    "$$a \\cdot x^2 + b \\cdot x + c = 0$$\n",
    "и возвращающая его корни\n",
    "\n",
    "Coefficient a: 2  \n",
    "Coefficient b: 3  \n",
    "Coefficient c: -5   \n",
    "Roots: 1 -2.5\n",
    "\n",
    "Обратите внимание, что коэффициенты могут быть равны 0\n",
    "$$a \\cdot x^2 + c = 0$$\n",
    "И так далее"
   ]
  }
 ],
 "metadata": {
  "kernelspec": {
   "display_name": "Python 3",
   "language": "python",
   "name": "python3"
  },
  "language_info": {
   "codemirror_mode": {
    "name": "ipython",
    "version": 3
   },
   "file_extension": ".py",
   "mimetype": "text/x-python",
   "name": "python",
   "nbconvert_exporter": "python",
   "pygments_lexer": "ipython3",
   "version": "3.6.4"
  }
 },
 "nbformat": 4,
 "nbformat_minor": 2
}
