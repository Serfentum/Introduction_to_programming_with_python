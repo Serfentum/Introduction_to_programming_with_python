{
 "cells": [
  {
   "cell_type": "markdown",
   "metadata": {},
   "source": [
    "# 1st project"
   ]
  },
  {
   "cell_type": "markdown",
   "metadata": {},
   "source": [
    "Write a program that given a dna string find genes and write them.\n",
    "\n",
    "As you remember genes usually starts with ATG and finishes with TAA, TGA, TAG. Also genes have some minimal length (say 12 nucleotides). Also genes can be at complement strand.\n",
    "\n",
    "If you know more about gene constraints (start, stop codons, lenght) - tell me and we will correct the task\n",
    "\n",
    "Example:  \n",
    "Input  \n",
    "CATGCATGCTCTCGCTATATTCACTGGATGACATTTTGATTTCATGTATTAGCTCGTAAAAACTCCATTATA\n",
    "\n",
    "Output  \n",
    "ATGCATGCTCTCGCTATATTCACTGGATGA  \n",
    "ATGCTCTCGCTATATTCACTGGATGACATTTTGATTTCATGTATTAGCTCGTAA  \n",
    "ATGACATTTTGA"
   ]
  }
 ],
 "metadata": {
  "kernelspec": {
   "display_name": "Python 3",
   "language": "python",
   "name": "python3"
  },
  "language_info": {
   "codemirror_mode": {
    "name": "ipython",
    "version": 3
   },
   "file_extension": ".py",
   "mimetype": "text/x-python",
   "name": "python",
   "nbconvert_exporter": "python",
   "pygments_lexer": "ipython3",
   "version": "3.6.4"
  }
 },
 "nbformat": 4,
 "nbformat_minor": 2
}
