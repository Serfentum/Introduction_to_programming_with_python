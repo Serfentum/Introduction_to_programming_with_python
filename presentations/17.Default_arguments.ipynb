{
 "cells": [
  {
   "cell_type": "markdown",
   "metadata": {},
   "source": [
    "# Functions and their arguments\n",
    "![](images/allegaeon.jpg)"
   ]
  },
  {
   "cell_type": "markdown",
   "metadata": {},
   "source": [
    "We have already see functions structure\n",
    "\n",
    "```python\n",
    "def function(arguments):\n",
    "    body\n",
    "    return\n",
    "```"
   ]
  },
  {
   "cell_type": "markdown",
   "metadata": {},
   "source": [
    "Of course there can be several arguments, but all of them need to be passed"
   ]
  },
  {
   "cell_type": "code",
   "execution_count": 1,
   "metadata": {},
   "outputs": [],
   "source": [
    "def summing(a, b):\n",
    "    return a + b"
   ]
  },
  {
   "cell_type": "code",
   "execution_count": 2,
   "metadata": {},
   "outputs": [
    {
     "data": {
      "text/plain": [
       "7"
      ]
     },
     "execution_count": 2,
     "metadata": {},
     "output_type": "execute_result"
    }
   ],
   "source": [
    "summing(3, 4)"
   ]
  },
  {
   "cell_type": "markdown",
   "metadata": {},
   "source": [
    "Just for completeness - you can pass arguments (let's call them args) as a `parameter=value`:"
   ]
  },
  {
   "cell_type": "code",
   "execution_count": 4,
   "metadata": {},
   "outputs": [
    {
     "data": {
      "text/plain": [
       "7"
      ]
     },
     "execution_count": 4,
     "metadata": {},
     "output_type": "execute_result"
    }
   ],
   "source": [
    "summing(a=3, b=4)"
   ]
  },
  {
   "cell_type": "markdown",
   "metadata": {},
   "source": [
    "In that case they don't have to go in order as in function (python by parameter name will understand which value for which parameter)"
   ]
  },
  {
   "cell_type": "code",
   "execution_count": 5,
   "metadata": {},
   "outputs": [
    {
     "data": {
      "text/plain": [
       "7"
      ]
     },
     "execution_count": 5,
     "metadata": {},
     "output_type": "execute_result"
    }
   ],
   "source": [
    "summing(b=4, a=3)"
   ]
  },
  {
   "cell_type": "markdown",
   "metadata": {},
   "source": [
    "But for this function we need to pass exactly 2 arguments"
   ]
  },
  {
   "cell_type": "code",
   "execution_count": 3,
   "metadata": {},
   "outputs": [
    {
     "ename": "TypeError",
     "evalue": "summing() missing 1 required positional argument: 'b'",
     "output_type": "error",
     "traceback": [
      "\u001b[0;31m---------------------------------------------------------------------------\u001b[0m",
      "\u001b[0;31mTypeError\u001b[0m                                 Traceback (most recent call last)",
      "\u001b[0;32m<ipython-input-3-208afa86ec00>\u001b[0m in \u001b[0;36m<module>\u001b[0;34m()\u001b[0m\n\u001b[0;32m----> 1\u001b[0;31m \u001b[0msumming\u001b[0m\u001b[0;34m(\u001b[0m\u001b[0;36m3\u001b[0m\u001b[0;34m)\u001b[0m\u001b[0;34m\u001b[0m\u001b[0;34m\u001b[0m\u001b[0m\n\u001b[0m",
      "\u001b[0;31mTypeError\u001b[0m: summing() missing 1 required positional argument: 'b'"
     ]
    }
   ],
   "source": [
    "summing(3)"
   ]
  },
  {
   "cell_type": "markdown",
   "metadata": {},
   "source": [
    "## Default arguments\n",
    "This is not a crucial example, but there are many functions which have many parameters (more parameters - more tweaking) and it would be boring to specify all of them.\n",
    "\n",
    "For this purpose we have a default arguments - they have a ... well, default value"
   ]
  },
  {
   "cell_type": "code",
   "execution_count": 8,
   "metadata": {},
   "outputs": [],
   "source": [
    "# You didn't specify b? It will be 42 now\n",
    "def summing(a, b=42):\n",
    "    return a + b"
   ]
  },
  {
   "cell_type": "code",
   "execution_count": 9,
   "metadata": {},
   "outputs": [
    {
     "data": {
      "text/plain": [
       "7"
      ]
     },
     "execution_count": 9,
     "metadata": {},
     "output_type": "execute_result"
    }
   ],
   "source": [
    "summing(3, 4)"
   ]
  },
  {
   "cell_type": "code",
   "execution_count": 10,
   "metadata": {},
   "outputs": [
    {
     "data": {
      "text/plain": [
       "45"
      ]
     },
     "execution_count": 10,
     "metadata": {},
     "output_type": "execute_result"
    }
   ],
   "source": [
    "summing(3)"
   ]
  },
  {
   "cell_type": "markdown",
   "metadata": {},
   "source": [
    "Now it's ok to skip `b` if you don't mind adding 42 to your value"
   ]
  },
  {
   "cell_type": "markdown",
   "metadata": {},
   "source": [
    "## Small off topic"
   ]
  },
  {
   "cell_type": "markdown",
   "metadata": {},
   "source": [
    "You know about comparisons and some methods which evaluates to boolean values"
   ]
  },
  {
   "cell_type": "code",
   "execution_count": 12,
   "metadata": {},
   "outputs": [
    {
     "data": {
      "text/plain": [
       "(True, True, True)"
      ]
     },
     "execution_count": 12,
     "metadata": {},
     "output_type": "execute_result"
    }
   ],
   "source": [
    "3 < 5, 's' in 'wasd', len([]) == 0"
   ]
  },
  {
   "cell_type": "markdown",
   "metadata": {},
   "source": [
    "Often you works with iterables and sometimes you need to test their emptiness. This can be done via `len()` function and comparison with 0, or in a better way"
   ]
  },
  {
   "cell_type": "code",
   "execution_count": 13,
   "metadata": {},
   "outputs": [
    {
     "name": "stdout",
     "output_type": "stream",
     "text": [
      "xs is empty\n"
     ]
    }
   ],
   "source": [
    "xs = []\n",
    "\n",
    "if not xs: # same as len(xs) == 0\n",
    "    print('xs is empty')"
   ]
  },
  {
   "cell_type": "markdown",
   "metadata": {},
   "source": [
    "### Falthy and Truthy\n",
    "In python many objects have intrinsic boolean meaning depending on their content (having something as a content, to be more precise)"
   ]
  },
  {
   "cell_type": "markdown",
   "metadata": {},
   "source": [
    "$ False \\Leftrightarrow 0 \\Leftrightarrow None \\Leftrightarrow '' \\Leftrightarrow [] \\Leftrightarrow (, ) \\Leftrightarrow \\{\\} \\Leftrightarrow set() $\n",
    "\n",
    "$ True \\Leftrightarrow $ *everything non-empty*"
   ]
  },
  {
   "cell_type": "markdown",
   "metadata": {},
   "source": [
    "## More sensible example"
   ]
  },
  {
   "cell_type": "code",
   "execution_count": 23,
   "metadata": {},
   "outputs": [],
   "source": [
    "def diary(tasks, is_holiday):\n",
    "    for i, task in enumerate(tasks, 1):\n",
    "        print(f'{i}. {task}')\n",
    "    if is_holiday:\n",
    "        print('But today is holiday - you can delay your work')"
   ]
  },
  {
   "cell_type": "code",
   "execution_count": 24,
   "metadata": {},
   "outputs": [
    {
     "name": "stdout",
     "output_type": "stream",
     "text": [
      "1. Figure out wtf with maldi\n",
      "2. Check vitamin D code\n"
     ]
    }
   ],
   "source": [
    "diary(['Figure out wtf with maldi', 'Check vitamin D code'], False)"
   ]
  },
  {
   "cell_type": "code",
   "execution_count": 25,
   "metadata": {},
   "outputs": [
    {
     "name": "stdout",
     "output_type": "stream",
     "text": [
      "1. Figure out wtf with maldi\n",
      "2. Check vitamin D code\n",
      "But today is holiday - you can delay your work\n"
     ]
    }
   ],
   "source": [
    "diary(['Figure out wtf with maldi', 'Check vitamin D code'], True)"
   ]
  },
  {
   "cell_type": "markdown",
   "metadata": {},
   "source": [
    "Let's make 2nd argument False by default (why False?)"
   ]
  },
  {
   "cell_type": "code",
   "execution_count": 26,
   "metadata": {},
   "outputs": [],
   "source": [
    "def diary(tasks, is_holiday=False):\n",
    "    for i, task in enumerate(tasks, 1):\n",
    "        print(f'{i}. {task}')\n",
    "    if is_holiday:\n",
    "        print('But today is holiday - you can delay your work')"
   ]
  },
  {
   "cell_type": "code",
   "execution_count": 27,
   "metadata": {},
   "outputs": [
    {
     "name": "stdout",
     "output_type": "stream",
     "text": [
      "1. Figure out wtf with maldi\n",
      "2. Check vitamin D code\n"
     ]
    }
   ],
   "source": [
    "diary(['Figure out wtf with maldi', 'Check vitamin D code'])"
   ]
  },
  {
   "cell_type": "code",
   "execution_count": 28,
   "metadata": {},
   "outputs": [
    {
     "name": "stdout",
     "output_type": "stream",
     "text": [
      "1. Figure out wtf with maldi\n",
      "2. Check vitamin D code\n",
      "But today is holiday - you can delay your work\n"
     ]
    }
   ],
   "source": [
    "diary(['Figure out wtf with maldi', 'Check vitamin D code'], True)"
   ]
  },
  {
   "cell_type": "markdown",
   "metadata": {},
   "source": [
    "Now we will save keystrokes each time this function invokes not in holiday"
   ]
  },
  {
   "cell_type": "markdown",
   "metadata": {},
   "source": [
    "### Convention over Configuration\n",
    "This means that more often cases should be default"
   ]
  },
  {
   "cell_type": "markdown",
   "metadata": {},
   "source": [
    "Example with `print()` function"
   ]
  },
  {
   "cell_type": "code",
   "execution_count": 29,
   "metadata": {},
   "outputs": [
    {
     "name": "stdout",
     "output_type": "stream",
     "text": [
      "My name is Fjpovfd\n"
     ]
    }
   ],
   "source": [
    "# Usually space is used to separate words\n",
    "print('My', 'name', 'is', 'Fjpovfd')"
   ]
  },
  {
   "cell_type": "code",
   "execution_count": 30,
   "metadata": {},
   "outputs": [
    {
     "name": "stdout",
     "output_type": "stream",
     "text": [
      "My\n",
      "name\n",
      "is\n",
      "Fjpovfd\n"
     ]
    }
   ],
   "source": [
    "# But not always\n",
    "print('My', 'name', 'is', 'Fjpovfd', sep='\\n')"
   ]
  },
  {
   "cell_type": "code",
   "execution_count": 31,
   "metadata": {},
   "outputs": [
    {
     "name": "stdout",
     "output_type": "stream",
     "text": [
      "My-*-name-*-is-*-Fjpovfd\n"
     ]
    }
   ],
   "source": [
    "# Fancy variants can be created\n",
    "print('My', 'name', 'is', 'Fjpovfd', sep='-*-')"
   ]
  },
  {
   "cell_type": "code",
   "execution_count": 40,
   "metadata": {},
   "outputs": [
    {
     "name": "stdout",
     "output_type": "stream",
     "text": [
      "First range - range(0, 10)\n",
      "***\n",
      "Second range - range(7, 19)\n",
      "***\n"
     ]
    }
   ],
   "source": [
    "# Another argument is end\n",
    "print('First range', range(10), sep=' - ', end='\\n***\\n')\n",
    "print('Second range', range(7, 19), sep=' - ', end='\\n***\\n')"
   ]
  }
 ],
 "metadata": {
  "kernelspec": {
   "display_name": "Python 3",
   "language": "python",
   "name": "python3"
  },
  "language_info": {
   "codemirror_mode": {
    "name": "ipython",
    "version": 3
   },
   "file_extension": ".py",
   "mimetype": "text/x-python",
   "name": "python",
   "nbconvert_exporter": "python",
   "pygments_lexer": "ipython3",
   "version": "3.6.7"
  }
 },
 "nbformat": 4,
 "nbformat_minor": 2
}
