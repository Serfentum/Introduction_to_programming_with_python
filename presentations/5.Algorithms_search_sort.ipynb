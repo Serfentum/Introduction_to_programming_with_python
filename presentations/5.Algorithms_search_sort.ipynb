{
 "cells": [
  {
   "cell_type": "markdown",
   "metadata": {},
   "source": [
    "# Searching and Sorting Algorithm examples"
   ]
  },
  {
   "cell_type": "markdown",
   "metadata": {},
   "source": [
    "Example of 2 different searching algorithms - linear search and binary search"
   ]
  },
  {
   "cell_type": "code",
   "execution_count": 25,
   "metadata": {},
   "outputs": [],
   "source": [
    "# Create list\n",
    "xs = list(range(10000))"
   ]
  },
  {
   "cell_type": "code",
   "execution_count": 26,
   "metadata": {},
   "outputs": [
    {
     "name": "stdout",
     "output_type": "stream",
     "text": [
      "260 µs ± 6.2 µs per loop (mean ± std. dev. of 7 runs, 1000 loops each)\n"
     ]
    }
   ],
   "source": [
    "%%timeit\n",
    "linear_search(xs, 4545)"
   ]
  },
  {
   "cell_type": "code",
   "execution_count": 30,
   "metadata": {},
   "outputs": [
    {
     "name": "stdout",
     "output_type": "stream",
     "text": [
      "8 µs ± 138 ns per loop (mean ± std. dev. of 7 runs, 100000 loops each)\n"
     ]
    }
   ],
   "source": [
    "%%timeit\n",
    "binary_search(xs, 4545)"
   ]
  },
  {
   "cell_type": "markdown",
   "metadata": {},
   "source": [
    "## Linear Search and emulation of list index method"
   ]
  },
  {
   "cell_type": "markdown",
   "metadata": {},
   "source": [
    "![](images/linear_search.png)"
   ]
  },
  {
   "cell_type": "markdown",
   "metadata": {},
   "source": [
    "![](images/linear_search2.png)"
   ]
  },
  {
   "cell_type": "code",
   "execution_count": 31,
   "metadata": {},
   "outputs": [
    {
     "name": "stdout",
     "output_type": "stream",
     "text": [
      "45\n"
     ]
    }
   ],
   "source": [
    "# Specify what to find\n",
    "searching_element = 45\n",
    "# Initialize index as None\n",
    "index = None\n",
    "\n",
    "# Iterate over elements in a list with their indices\n",
    "# Assign position of element equal to searching_element to index\n",
    "for i, elem in enumerate(xs):\n",
    "    if elem == searching_element:\n",
    "        index = i\n",
    "        break\n",
    "\n",
    "print(index)"
   ]
  },
  {
   "cell_type": "markdown",
   "metadata": {},
   "source": [
    "## Binary Search\n",
    "\n",
    "![](images/binary_search.png)"
   ]
  },
  {
   "cell_type": "markdown",
   "metadata": {},
   "source": [
    "![](images/biinary_search2.jpg)"
   ]
  },
  {
   "cell_type": "markdown",
   "metadata": {},
   "source": [
    "![](images/binary_search3.png)"
   ]
  },
  {
   "cell_type": "code",
   "execution_count": 17,
   "metadata": {},
   "outputs": [],
   "source": [
    "import math\n",
    "from IPython.lib.display import YouTubeVideo"
   ]
  },
  {
   "cell_type": "code",
   "execution_count": 32,
   "metadata": {},
   "outputs": [
    {
     "name": "stdout",
     "output_type": "stream",
     "text": [
      "5000 2500 5000\n",
      "2500 1250 2500\n",
      "1250 625 1250\n",
      "625 312 625\n",
      "313 156 313\n",
      "157 78 157\n",
      "79 39 79\n",
      "40 20 40\n",
      "20 10 20\n",
      "10 5 10\n",
      "5 2 5\n",
      "3 1 3\n",
      "2 1 2\n",
      "1 1 1\n",
      "0\n"
     ]
    }
   ],
   "source": [
    "# Specify element to search\n",
    "searching_element = 0\n",
    "# Find length of list, and its half \n",
    "length = len(xs)\n",
    "delta = length // 2\n",
    "index = delta\n",
    "\n",
    "# We start to search at the middle of list\n",
    "# On each iteration we compare chosen element with one which we need to find\n",
    "# and exploiting the fact that list is sorted we decide where to go (right/left/stay)\n",
    "# next we slide half of the current delta in necessary direction and reduce delta to half of it\n",
    "for i in range(round(math.log2(length)) + 1):\n",
    "    # Compute range to slide in a list\n",
    "    delta = max(round(delta / 2), 1)\n",
    "    print(index, delta, xs[index])\n",
    "    # Element found\n",
    "    if xs[index] == searching_element:\n",
    "        break\n",
    "    # Element somewhere in the greater part of list\n",
    "    elif xs[index] < searching_element:\n",
    "        index += delta\n",
    "    # Element somewhere in the lesser part of list\n",
    "    else:\n",
    "        index -= delta\n",
    "    \n",
    "print(index)"
   ]
  },
  {
   "cell_type": "code",
   "execution_count": 28,
   "metadata": {},
   "outputs": [],
   "source": [
    "def linear_search(xs, ele):\n",
    "    for i, elem in enumerate(xs):\n",
    "        if elem == ele:\n",
    "            return i\n",
    "\n",
    "def binary_search(xs, elem):\n",
    "    # Find length of list, and its half \n",
    "    length = len(xs)\n",
    "    delta = length // 2\n",
    "    index = delta\n",
    "\n",
    "    for i in range(round(math.log2(length)) + 2):\n",
    "        delta = max(round(delta / 2), 1)\n",
    "        \n",
    "        if xs[index] == elem:\n",
    "            return index\n",
    "        elif xs[index] < elem:\n",
    "            index += delta\n",
    "        else:\n",
    "            index -= delta"
   ]
  },
  {
   "cell_type": "code",
   "execution_count": 29,
   "metadata": {},
   "outputs": [
    {
     "data": {
      "text/plain": [
       "135"
      ]
     },
     "execution_count": 29,
     "metadata": {},
     "output_type": "execute_result"
    }
   ],
   "source": [
    "binary_search(range(100000), 135)"
   ]
  },
  {
   "cell_type": "markdown",
   "metadata": {},
   "source": [
    "## Mergesort illustration"
   ]
  },
  {
   "cell_type": "code",
   "execution_count": 24,
   "metadata": {},
   "outputs": [
    {
     "data": {
      "image/jpeg": "[encoded data removed]",
      "text/plain": [
       "<IPython.lib.display.YouTubeVideo at 0x7fb838ba9860>"
      ]
     },
     "metadata": {}
    }
   ],
   "source": [
    "YouTubeVideo('61Z9-RP04xk', width=750, height=400)"
   ]
  }
 ],
 "metadata": {
  "kernelspec": {
   "display_name": "Python 3",
   "language": "python",
   "name": "python3"
  },
  "language_info": {
   "codemirror_mode": {
    "name": "ipython",
    "version": 3
   },
   "file_extension": ".py",
   "mimetype": "text/x-python",
   "name": "python",
   "nbconvert_exporter": "python",
   "pygments_lexer": "ipython3",
   "version": "3.6.4"
  }
 },
 "nbformat": 4,
 "nbformat_minor": 2
}
