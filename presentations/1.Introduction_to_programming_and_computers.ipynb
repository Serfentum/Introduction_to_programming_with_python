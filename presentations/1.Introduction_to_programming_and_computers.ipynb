{
 "cells": [
  {
   "cell_type": "markdown",
   "metadata": {
    "slideshow": {
     "slide_type": "skip"
    }
   },
   "source": [
    "`jupyter nbconvert 3.Complex_data_types.ipynb --to slides --post serve --SlidesExporter.reveal_scroll=True --SlidesExporter.reveal_transition=convex`\n",
    "from IPython.core.display import display, HTML\n",
    "display(HTML(\"<style>\"\n",
    "    + \"#notebook { padding-top:0px !important; } \" \n",
    "    + \".container { width:100% !important; } \"\n",
    "    + \".end_space { min-height:0px !important; } \"\n",
    "    + \"</style>\"))"
   ]
  },
  {
   "cell_type": "markdown",
   "metadata": {
    "nbpresent": {
     "id": "01beba6d-95dc-42b9-b152-3ac9f2c1f532"
    },
    "slideshow": {
     "slide_type": "slide"
    }
   },
   "source": [
    "# Intro to programming and computers"
   ]
  },
  {
   "cell_type": "markdown",
   "metadata": {
    "nbpresent": {
     "id": "6eb665cc-059e-45bc-b816-e1cfc47649f5"
    },
    "slideshow": {
     "slide_type": "-"
    }
   },
   "source": [
    "<img src=\"images/python.png\" style=\"width: 300px; align: center;\">"
   ]
  },
  {
   "cell_type": "markdown",
   "metadata": {
    "nbpresent": {
     "id": "47539605-8c9a-49b3-a771-8f47ecda1a73"
    },
    "slideshow": {
     "slide_type": "slide"
    }
   },
   "source": [
    "## Brief Plan\n",
    "1. Introduction\n",
    "    * meaning of programming\n",
    "    * simple computer representation\n",
    "    * about programming languages\n",
    "    * python among languages\n",
    "1. Data Types - start\n",
    "    * numbers\n",
    "1. Arithmetic operations\n",
    "1. Data Types - continue basic types\n",
    "    * string\n",
    "    * boolean\n",
    "1. Comparisons\n",
    "1. Boolean operations"
   ]
  },
  {
   "cell_type": "markdown",
   "metadata": {
    "nbpresent": {
     "id": "5b820fe8-d7e2-447d-bd3a-c1ebeff7943c"
    },
    "slideshow": {
     "slide_type": "subslide"
    }
   },
   "source": [
    "1. Variables\n",
    "    * what is it\n",
    "    * why should we use it\n",
    "1. Control Flow\n",
    "    * if\n",
    "    * else\n",
    "    * elif\n",
    "1. Data types - continue\n",
    "    * list\n",
    "    * tuple\n",
    "    * set"
   ]
  },
  {
   "cell_type": "markdown",
   "metadata": {
    "nbpresent": {
     "id": "b4d55b3f-4797-4a8e-8b42-51e8bb695c9a"
    },
    "slideshow": {
     "slide_type": "slide"
    }
   },
   "source": [
    "## Why Programming?\n",
    "Automatization\n",
    "<img src=\"images/automatization.jpg\" style=\"width: 500px;\">"
   ]
  },
  {
   "cell_type": "markdown",
   "metadata": {
    "nbpresent": {
     "id": "b37db25f-2ce0-49c0-b6d9-3813ba0a9367"
    },
    "slideshow": {
     "slide_type": "subslide"
    }
   },
   "source": [
    "Simulation\n",
    "<img src=\"images/simulation.png\" style=\"width: 500px;\">"
   ]
  },
  {
   "cell_type": "markdown",
   "metadata": {
    "nbpresent": {
     "id": "26dcb187-f69d-43ef-af59-5cc4a98bdd76"
    },
    "slideshow": {
     "slide_type": "subslide"
    }
   },
   "source": [
    "Creation\n",
    "<img src=\"images/creation.jpg\" style=\"width: 500px;\">"
   ]
  },
  {
   "cell_type": "markdown",
   "metadata": {
    "nbpresent": {
     "id": "26dcb187-f69d-43ef-af59-5cc4a98bdd76"
    },
    "slideshow": {
     "slide_type": "subslide"
    }
   },
   "source": [
    "Joy\n",
    "<img src=\"images/joy.jpg\" style=\"width: 500px;\">"
   ]
  },
  {
   "cell_type": "markdown",
   "metadata": {
    "nbpresent": {
     "id": "9c272092-a846-42bc-8a5a-5a5a25530385"
    },
    "slideshow": {
     "slide_type": "slide"
    }
   },
   "source": [
    "## Computer representation\n",
    "### Turing Machine\n",
    "![](images/turingMachine.gif)"
   ]
  },
  {
   "cell_type": "markdown",
   "metadata": {
    "nbpresent": {
     "id": "f8a1a307-d9e5-459c-aa55-5b057d57f57d"
    },
    "slideshow": {
     "slide_type": "subslide"
    }
   },
   "source": [
    "### Simple representation\n",
    "\n",
    "![](images/repr.gif)"
   ]
  },
  {
   "cell_type": "markdown",
   "metadata": {
    "slideshow": {
     "slide_type": "subslide"
    }
   },
   "source": [
    "### Binary representation\n",
    "\n",
    "![](images/binary.png)"
   ]
  },
  {
   "cell_type": "markdown",
   "metadata": {
    "nbpresent": {
     "id": "f8a1a307-d9e5-459c-aa55-5b057d57f57d"
    },
    "slideshow": {
     "slide_type": "subslide"
    }
   },
   "source": [
    "## Languages\n",
    "* ~ 10000 of natural languages\n",
    "* ~ 1000 of artificial human languages\n",
    "* ~ 10000 of programming languages\n",
    "![](images/language.jpg)"
   ]
  },
  {
   "cell_type": "markdown",
   "metadata": {
    "nbpresent": {
     "id": "e2760547-508b-4a31-af30-6806af492e09"
    },
    "slideshow": {
     "slide_type": "slide"
    }
   },
   "source": [
    "## Programming Language Classifications\n",
    "### Level\n",
    "* Low level languages - machine code, assembler\n",
    "* Medium level languages - c, rust\n",
    "* High level languages - python, r"
   ]
  },
  {
   "cell_type": "markdown",
   "metadata": {
    "slideshow": {
     "slide_type": "subslide"
    }
   },
   "source": [
    "### Type system\n",
    "* Strong - c, java, python\n",
    "* Weak - javascript\n"
   ]
  },
  {
   "cell_type": "markdown",
   "metadata": {
    "slideshow": {
     "slide_type": "fragment"
    }
   },
   "source": [
    "### Type checking\n",
    "* Static - c, java\n",
    "* Dynamic - python, javascript\n"
   ]
  },
  {
   "cell_type": "markdown",
   "metadata": {
    "nbpresent": {
     "id": "355c23bb-c222-4c86-a439-6433658914a3"
    },
    "slideshow": {
     "slide_type": "subslide"
    }
   },
   "source": [
    "### PYPL index\n",
    "![](images/pypl.png)"
   ]
  },
  {
   "cell_type": "markdown",
   "metadata": {
    "nbpresent": {
     "id": "4e9ad676-aaa7-4ff5-9a4d-925590484a06"
    },
    "slideshow": {
     "slide_type": "subslide"
    }
   },
   "source": [
    "### TIOBE index\n",
    "![](images/tiobe.png)"
   ]
  },
  {
   "cell_type": "markdown",
   "metadata": {
    "nbpresent": {
     "id": "365d6f62-fe0a-49dc-a5e4-786f73ae3982"
    },
    "slideshow": {
     "slide_type": "slide"
    }
   },
   "source": [
    "## Simple program in several languages"
   ]
  },
  {
   "cell_type": "markdown",
   "metadata": {
    "slideshow": {
     "slide_type": "-"
    }
   },
   "source": [
    "MISP\n",
    "```misp\n",
    ".data\n",
    "str: .asciiz \"Hello World!\\n\"\n",
    ".text\n",
    ".globl main\n",
    "main:\n",
    "la $a0, str\n",
    "li $v0, 4\n",
    "syscall\n",
    "li $v0, 0\n",
    "jr $ra\n",
    "```"
   ]
  },
  {
   "cell_type": "markdown",
   "metadata": {
    "nbpresent": {
     "id": "995c473b-9062-4a0b-bd7d-856f30b715c3"
    },
    "slideshow": {
     "slide_type": "subslide"
    }
   },
   "source": [
    "C\n",
    "```c\n",
    "int main() {\n",
    "    printf(\"Hello World!\");\n",
    "\treturn 0;\n",
    "}\n",
    "```"
   ]
  },
  {
   "cell_type": "markdown",
   "metadata": {
    "nbpresent": {
     "id": "5b5f4769-06d8-4486-a89f-a642c06835d4"
    },
    "slideshow": {
     "slide_type": "subslide"
    }
   },
   "source": [
    "Java\n",
    "```java\n",
    "class HelloWorld {\n",
    "    public static void main(String[] args) {\n",
    "        System.out.println(\"Hello World!\");\n",
    "    }\n",
    "}\n",
    "```"
   ]
  },
  {
   "cell_type": "markdown",
   "metadata": {
    "nbpresent": {
     "id": "27f3f197-9bea-48d9-911c-78054326c385"
    },
    "slideshow": {
     "slide_type": "subslide"
    }
   },
   "source": [
    "Python\n",
    "```python\n",
    "print('Hello World!')\n",
    "```"
   ]
  },
  {
   "cell_type": "markdown",
   "metadata": {
    "nbpresent": {
     "id": "4a1b2283-8106-4925-be39-46f29d11ff81"
    },
    "slideshow": {
     "slide_type": "fragment"
    }
   },
   "source": [
    "Haskell\n",
    "```haskell\n",
    "putStrLn \"Hello World!\"\n",
    "```"
   ]
  }
 ],
 "metadata": {
  "kernelspec": {
   "display_name": "Python 3",
   "language": "python",
   "name": "python3"
  },
  "language_info": {
   "codemirror_mode": {
    "name": "ipython",
    "version": 3
   },
   "file_extension": ".py",
   "mimetype": "text/x-python",
   "name": "python",
   "nbconvert_exporter": "python",
   "pygments_lexer": "ipython3",
   "version": "3.6.4"
  },
  "nbpresent": {
   "slides": {},
   "themes": {
    "default": "07910df8-c028-43d6-bd1b-f4f2a8e13751",
    "theme": {
     "07910df8-c028-43d6-bd1b-f4f2a8e13751": {
      "backgrounds": {
       "dc7afa04-bf90-40b1-82a5-726e3cff5267": {
        "background-color": "31af15d2-7e15-44c5-ab5e-e04b16a89eff",
        "id": "dc7afa04-bf90-40b1-82a5-726e3cff5267"
       }
      },
      "id": "07910df8-c028-43d6-bd1b-f4f2a8e13751",
      "palette": {
       "19cc588f-0593-49c9-9f4b-e4d7cc113b1c": {
        "id": "19cc588f-0593-49c9-9f4b-e4d7cc113b1c",
        "rgb": [
         252.0,
         252.0,
         252.0
        ]
       },
       "31af15d2-7e15-44c5-ab5e-e04b16a89eff": {
        "id": "31af15d2-7e15-44c5-ab5e-e04b16a89eff",
        "rgb": [
         68.0,
         68.0,
         68.0
        ]
       },
       "50f92c45-a630-455b-aec3-788680ec7410": {
        "id": "50f92c45-a630-455b-aec3-788680ec7410",
        "rgb": [
         197.0,
         226.0,
         245.0
        ]
       },
       "c5cc3653-2ee1-402a-aba2-7caae1da4f6c": {
        "id": "c5cc3653-2ee1-402a-aba2-7caae1da4f6c",
        "rgb": [
         43.0,
         126.0,
         184.0
        ]
       },
       "efa7f048-9acb-414c-8b04-a26811511a21": {
        "id": "efa7f048-9acb-414c-8b04-a26811511a21",
        "rgb": [
         25.118061674008803,
         73.60176211453744,
         107.4819383259912
        ]
       }
      },
      "rules": {
       "a": {
        "color": "19cc588f-0593-49c9-9f4b-e4d7cc113b1c"
       },
       "blockquote": {
        "color": "50f92c45-a630-455b-aec3-788680ec7410",
        "font-size": 3.0
       },
       "code": {
        "font-family": "Anonymous Pro"
       },
       "h1": {
        "color": "19cc588f-0593-49c9-9f4b-e4d7cc113b1c",
        "font-family": "Merriweather",
        "font-size": 8.0
       },
       "h2": {
        "color": "19cc588f-0593-49c9-9f4b-e4d7cc113b1c",
        "font-family": "Merriweather",
        "font-size": 6.0
       },
       "h3": {
        "color": "50f92c45-a630-455b-aec3-788680ec7410",
        "font-family": "Lato",
        "font-size": 5.5
       },
       "h4": {
        "color": "c5cc3653-2ee1-402a-aba2-7caae1da4f6c",
        "font-family": "Lato",
        "font-size": 5.0
       },
       "h5": {
        "font-family": "Lato"
       },
       "h6": {
        "font-family": "Lato"
       },
       "h7": {
        "font-family": "Lato"
       },
       "li": {
        "color": "50f92c45-a630-455b-aec3-788680ec7410",
        "font-size": 3.25
       },
       "pre": {
        "font-family": "Anonymous Pro",
        "font-size": 4.0
       }
      },
      "text-base": {
       "color": "19cc588f-0593-49c9-9f4b-e4d7cc113b1c",
       "font-family": "Lato",
       "font-size": 4.0
      }
     },
     "63de0c9f-7f35-4e16-a9bd-2cd5ef2d1a8a": {
      "backgrounds": {
       "dc7afa04-bf90-40b1-82a5-726e3cff5267": {
        "background-color": "31af15d2-7e15-44c5-ab5e-e04b16a89eff",
        "id": "dc7afa04-bf90-40b1-82a5-726e3cff5267"
       }
      },
      "id": "63de0c9f-7f35-4e16-a9bd-2cd5ef2d1a8a",
      "palette": {
       "19cc588f-0593-49c9-9f4b-e4d7cc113b1c": {
        "id": "19cc588f-0593-49c9-9f4b-e4d7cc113b1c",
        "rgb": [
         252.0,
         252.0,
         252.0
        ]
       },
       "31af15d2-7e15-44c5-ab5e-e04b16a89eff": {
        "id": "31af15d2-7e15-44c5-ab5e-e04b16a89eff",
        "rgb": [
         68.0,
         68.0,
         68.0
        ]
       },
       "50f92c45-a630-455b-aec3-788680ec7410": {
        "id": "50f92c45-a630-455b-aec3-788680ec7410",
        "rgb": [
         197.0,
         226.0,
         245.0
        ]
       },
       "c5cc3653-2ee1-402a-aba2-7caae1da4f6c": {
        "id": "c5cc3653-2ee1-402a-aba2-7caae1da4f6c",
        "rgb": [
         43.0,
         126.0,
         184.0
        ]
       },
       "efa7f048-9acb-414c-8b04-a26811511a21": {
        "id": "efa7f048-9acb-414c-8b04-a26811511a21",
        "rgb": [
         25.118061674008803,
         73.60176211453744,
         107.4819383259912
        ]
       }
      },
      "rules": {
       "a": {
        "color": "19cc588f-0593-49c9-9f4b-e4d7cc113b1c"
       },
       "blockquote": {
        "color": "50f92c45-a630-455b-aec3-788680ec7410",
        "font-size": 3.0
       },
       "code": {
        "font-family": "Anonymous Pro"
       },
       "h1": {
        "color": "19cc588f-0593-49c9-9f4b-e4d7cc113b1c",
        "font-family": "Merriweather",
        "font-size": 8.0
       },
       "h2": {
        "color": "19cc588f-0593-49c9-9f4b-e4d7cc113b1c",
        "font-family": "Merriweather",
        "font-size": 6.0
       },
       "h3": {
        "color": "50f92c45-a630-455b-aec3-788680ec7410",
        "font-family": "Lato",
        "font-size": 5.5
       },
       "h4": {
        "color": "c5cc3653-2ee1-402a-aba2-7caae1da4f6c",
        "font-family": "Lato",
        "font-size": 5.0
       },
       "h5": {
        "font-family": "Lato"
       },
       "h6": {
        "font-family": "Lato"
       },
       "h7": {
        "font-family": "Lato"
       },
       "li": {
        "color": "50f92c45-a630-455b-aec3-788680ec7410",
        "font-size": 3.25
       },
       "pre": {
        "font-family": "Anonymous Pro",
        "font-size": 4.0
       }
      },
      "text-base": {
       "color": "19cc588f-0593-49c9-9f4b-e4d7cc113b1c",
       "font-family": "Lato",
       "font-size": 4.0
      }
     }
    }
   }
  }
 },
 "nbformat": 4,
 "nbformat_minor": 2
}
