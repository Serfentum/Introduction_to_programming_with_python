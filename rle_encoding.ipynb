{
 "cells": [
  {
   "cell_type": "code",
   "execution_count": 4,
   "metadata": {},
   "outputs": [],
   "source": [
    "from itertools import cycle\n",
    "import matplotlib.pyplot as plt\n",
    "import seaborn as sns"
   ]
  },
  {
   "cell_type": "code",
   "execution_count": 6,
   "metadata": {},
   "outputs": [],
   "source": [
    "s = '''4, 11, 3\n",
    "4, 9, 2, 1, 2\n",
    "4, 9, 2, 1, 2\n",
    "4, 11, 3\n",
    "4, 9, 5\n",
    "4, 9, 5\n",
    "5, 7, 6\n",
    "0, 17, 1\n",
    "1, 15, 2'''"
   ]
  },
  {
   "cell_type": "code",
   "execution_count": 34,
   "metadata": {},
   "outputs": [],
   "source": [
    "im = '''000011111111111000\n",
    "000011111111100100\n",
    "000011111111100100\n",
    "000011111111111000\n",
    "000011111111100000\n",
    "000011111111100000\n",
    "000001111111000000\n",
    "111111111111111110\n",
    "011111111111111100\n",
    "'''\n",
    "im2 = '''000111000\n",
    "111111111\n",
    "111000111\n",
    "001111100\n",
    "001010100'''"
   ]
  },
  {
   "cell_type": "code",
   "execution_count": 2,
   "metadata": {},
   "outputs": [],
   "source": [
    "def rle_compress(im_str):\n",
    "    \"\"\"\n",
    "    Compress black-white image in form of plain text with run length method\n",
    "    \"\"\"\n",
    "    ans = []\n",
    "    \n",
    "    for line in im_str.splitlines():\n",
    "        # Initialize \n",
    "        w = 0\n",
    "        b = 0\n",
    "        res = []\n",
    "        \n",
    "        # Process 1st character separately to set white value to 0 in case of black first\n",
    "        if line.startswith('0'):\n",
    "            w += 1\n",
    "        else:\n",
    "            res.append(w)\n",
    "            b += 1\n",
    "        \n",
    "        # Process characters in rest of line - \n",
    "        # Determine current\n",
    "        # Increment its counter\n",
    "        # Dump value of previous character counter to res if there was a change of color\n",
    "        for i in line[1:]:\n",
    "            if i == '1':\n",
    "                b += 1\n",
    "                if w != 0:\n",
    "                    res.append(w)\n",
    "                    w = 0\n",
    "            else:\n",
    "                w += 1\n",
    "                if b != 0:\n",
    "                    res.append(b)\n",
    "                    b = 0     \n",
    "        # Dump results of last character\n",
    "        if b:\n",
    "            res.append(b)\n",
    "        else:\n",
    "            res.append(w)\n",
    "        \n",
    "        # Dump line compressing results to the answer\n",
    "        ans.append(res)\n",
    "    return ans"
   ]
  },
  {
   "cell_type": "code",
   "execution_count": 12,
   "metadata": {},
   "outputs": [],
   "source": [
    "def rle_decompress(compressed):\n",
    "    \"\"\"\n",
    "    Decompress rle compressed image string back to image string\n",
    "    \"\"\"\n",
    "    image_string = ['']\n",
    "    \n",
    "    for line in s.splitlines():\n",
    "        ii = cycle(('0', '1'))\n",
    "        for m in line.split(', '):\n",
    "            i = next(ii)\n",
    "            image_string[-1] += (i * int(m))\n",
    "        image_string.append('')\n",
    "    return '\\n'.join(image_string)"
   ]
  },
  {
   "cell_type": "code",
   "execution_count": 17,
   "metadata": {},
   "outputs": [
    {
     "name": "stdout",
     "output_type": "stream",
     "text": [
      "000011111111111000\n",
      "000011111111100100\n",
      "000011111111100100\n",
      "000011111111111000\n",
      "000011111111100000\n",
      "000011111111100000\n",
      "000001111111000000\n",
      "111111111111111110\n",
      "011111111111111100\n",
      "\n"
     ]
    }
   ],
   "source": [
    "print(rle_decompress(rle_compress(rle_decompress(s))))"
   ]
  },
  {
   "cell_type": "code",
   "execution_count": 31,
   "metadata": {},
   "outputs": [],
   "source": [
    "arr = list(map(lambda x: list(map(int, list(x))), im2.splitlines()))"
   ]
  },
  {
   "cell_type": "code",
   "execution_count": 32,
   "metadata": {},
   "outputs": [
    {
     "data": {
      "text/plain": [
       "[[0, 0, 0, 1, 1, 1, 0, 0, 0],\n",
       " [1, 1, 1, 1, 1, 1, 1, 1, 1],\n",
       " [1, 1, 1, 0, 0, 0, 1, 1, 1],\n",
       " [0, 0, 1, 1, 1, 1, 1, 0, 0],\n",
       " [1, 0, 1, 0, 1, 0, 1, 0, 1]]"
      ]
     },
     "execution_count": 32,
     "metadata": {},
     "output_type": "execute_result"
    }
   ],
   "source": [
    "arr"
   ]
  },
  {
   "cell_type": "code",
   "execution_count": 33,
   "metadata": {},
   "outputs": [
    {
     "data": {
      "text/plain": [
       "<matplotlib.axes._subplots.AxesSubplot at 0x7fa45f277b38>"
      ]
     },
     "execution_count": 33,
     "metadata": {},
     "output_type": "execute_result"
    },
    {
     "data": {
      "image/png": "[encoded data removed]",
      "text/plain": [
       "<Figure size 864x576 with 1 Axes>"
      ]
     },
     "metadata": {},
     "output_type": "display_data"
    }
   ],
   "source": [
    "plt.figure(figsize=(12, 8))\n",
    "sns.heatmap(arr, cmap=['white', 'black'], cbar=False)"
   ]
  },
  {
   "cell_type": "code",
   "execution_count": null,
   "metadata": {},
   "outputs": [],
   "source": []
  }
 ],
 "metadata": {
  "kernelspec": {
   "display_name": "Python 3",
   "language": "python",
   "name": "python3"
  },
  "language_info": {
   "codemirror_mode": {
    "name": "ipython",
    "version": 3
   },
   "file_extension": ".py",
   "mimetype": "text/x-python",
   "name": "python",
   "nbconvert_exporter": "python",
   "pygments_lexer": "ipython3",
   "version": "3.6.4"
  }
 },
 "nbformat": 4,
 "nbformat_minor": 2
}
