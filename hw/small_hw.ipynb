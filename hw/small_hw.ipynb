{
 "cells": [
  {
   "cell_type": "markdown",
   "metadata": {},
   "source": [
    "# Small HW"
   ]
  },
  {
   "cell_type": "markdown",
   "metadata": {},
   "source": [
    "## 0\n",
    "Напишите программу, считающую [Hamming distance]() между 2-мя строкам одной длины\n",
    "\n",
    "Input\n",
    "ATGGTGCCGT\n",
    "ATCGTCCGGT\n",
    "\n",
    "Output\n",
    "3"
   ]
  },
  {
   "cell_type": "markdown",
   "metadata": {},
   "source": [
    "## 1"
   ]
  },
  {
   "cell_type": "markdown",
   "metadata": {},
   "source": [
    "Напишите циклы, рисующие следующие паттерны (ёлочка, крест (да, не особо похож из-за пробелов) и песочные часы)\n",
    "```\n",
    "   *   \n",
    "  ***\n",
    " *****\n",
    "*******\n",
    "   *\n",
    "```\n",
    "\n",
    "```\n",
    "*     *\n",
    " *   *\n",
    "   *\n",
    " *   *\n",
    "*     *\n",
    "```\n",
    "\n",
    "```\n",
    "*****\n",
    " ***\n",
    "  *\n",
    " ***\n",
    "*****\n",
    "```"
   ]
  }
 ],
 "metadata": {
  "kernelspec": {
   "display_name": "Python 3",
   "language": "python",
   "name": "python3"
  },
  "language_info": {
   "codemirror_mode": {
    "name": "ipython",
    "version": 3
   },
   "file_extension": ".py",
   "mimetype": "text/x-python",
   "name": "python",
   "nbconvert_exporter": "python",
   "pygments_lexer": "ipython3",
   "version": "3.6.4"
  }
 },
 "nbformat": 4,
 "nbformat_minor": 2
}
